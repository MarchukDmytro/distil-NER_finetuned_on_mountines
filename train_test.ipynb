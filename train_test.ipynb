{
 "cells": [
  {
   "cell_type": "code",
   "execution_count": 1,
   "metadata": {},
   "outputs": [
    {
     "name": "stderr",
     "output_type": "stream",
     "text": [
      "d:\\intern\\phi\\.venv\\Lib\\site-packages\\tqdm\\auto.py:21: TqdmWarning: IProgress not found. Please update jupyter and ipywidgets. See https://ipywidgets.readthedocs.io/en/stable/user_install.html\n",
      "  from .autonotebook import tqdm as notebook_tqdm\n"
     ]
    }
   ],
   "source": [
    "import os\n",
    "import json\n",
    "import torch\n",
    "import matplotlib.pyplot as plt\n",
    "from datasets import load_from_disk\n",
    "from torch.utils.data import random_split\n",
    "from sklearn.metrics import accuracy_score, precision_recall_fscore_support\n",
    "from transformers import AutoTokenizer, AutoModelForTokenClassification, DataCollatorForTokenClassification, pipeline, Trainer, TrainingArguments,TrainerCallback\n",
    "\n",
    "device = \"cuda\""
   ]
  },
  {
   "cell_type": "code",
   "execution_count": 2,
   "metadata": {},
   "outputs": [],
   "source": [
    "# Load the pre-trained tokenizer and model\n",
    "local_path = \"distilbert-NER\" #global_path = \"dslim/distilbert-NER\"\n",
    "\n",
    "tokenizer = AutoTokenizer.from_pretrained(local_path)\n",
    "model = AutoModelForTokenClassification.from_pretrained(local_path)\n",
    "\n",
    "old_classifier = model.classifier  # Save the old classifier(last layer of the model)\n",
    "\n",
    "model.classifier = torch.nn.Linear(model.config.hidden_size, 11) # creale new linear layer for icrease output number from 9 to 11\n",
    "\n",
    "torch.nn.init.xavier_uniform_(model.classifier.weight) # generate new weights\n",
    "\n",
    "with torch.no_grad():\n",
    "    model.classifier.weight[:old_classifier.weight.size(0), :] = old_classifier.weight  # Copy old weights\n",
    "    model.classifier.bias[:old_classifier.bias.size(0)] = old_classifier.bias  # Copy old bias\n",
    "\n",
    "\n",
    "# changing model metadata to match new one\n",
    "model.num_labels = 11 \n",
    "\n",
    "model.config.id2label = {\n",
    "                        0: 'O', \n",
    "                        1: 'B-PER', \n",
    "                        2: 'I-PER', \n",
    "                        3: 'B-ORG', \n",
    "                        4: 'I-ORG', \n",
    "                        5: 'B-LOC', \n",
    "                        6: 'I-LOC', \n",
    "                        7: 'B-MISC', \n",
    "                        8: 'I-MISC', \n",
    "                        9: 'B-MOU', \n",
    "                        10: 'I-MOU'\n",
    "                        }\n",
    "\n",
    "dataset = load_from_disk(\"./ner_dataset\")\n"
   ]
  },
  {
   "cell_type": "code",
   "execution_count": 86,
   "metadata": {},
   "outputs": [],
   "source": [
    "\n",
    "def tokenize_and_align_labels(examples): # prepare data for training\n",
    "    tokenized_inputs = tokenizer(examples[\"tokens\"], padding=False, truncation=True, is_split_into_words=True) #tokenize the words\n",
    "\n",
    "    labels = []\n",
    "\n",
    "    for i, label in enumerate(examples[\"ner_tags\"]): # labeling tokens\n",
    "        word_ids = tokenized_inputs.word_ids(batch_index=i)  # take word ids for sentance\n",
    "        label_ids = []\n",
    "        for word_idx in word_ids:\n",
    "            if word_idx is None:\n",
    "                label_ids.append(-100)  # Ignore the special tokens in the start and end of sentance\n",
    "            else:  # Add label for tokens\n",
    "                label_ids.append(label[word_idx])\n",
    "        labels.append(label_ids)\n",
    "    tokenized_inputs[\"labels\"] = labels\n",
    "    return tokenized_inputs\n",
    "\n",
    "# Tokenize dataset\n",
    "tokenized_datasets = dataset.map(tokenize_and_align_labels, batched=True)\n",
    "\n",
    "# Create data collator for padding inputs\n",
    "data_collator = DataCollatorForTokenClassification(tokenizer)"
   ]
  },
  {
   "cell_type": "code",
   "execution_count": 4,
   "metadata": {},
   "outputs": [],
   "source": [
    "#data collector for loss plot\n",
    "metrics_per_epoch = []\n",
    "\n",
    "class SaveMetricsCallback(TrainerCallback): \n",
    "    def on_evaluate(self, args, state, control, metrics=None, **kwargs):\n",
    "        if metrics:\n",
    "            # Append current metrics to the list\n",
    "            metrics_per_epoch.append(metrics)\n",
    "            \n",
    "            # Save metrics to a file at each epoch\n",
    "            with open(os.path.join(args.output_dir, \"metrics.json\"), \"w\") as f:\n",
    "                json.dump(metrics_per_epoch, f, indent=4)"
   ]
  },
  {
   "cell_type": "code",
   "execution_count": 5,
   "metadata": {},
   "outputs": [
    {
     "name": "stderr",
     "output_type": "stream",
     "text": [
      "d:\\intern\\phi\\.venv\\Lib\\site-packages\\transformers\\training_args.py:1545: FutureWarning: `evaluation_strategy` is deprecated and will be removed in version 4.46 of 🤗 Transformers. Use `eval_strategy` instead\n",
      "  warnings.warn(\n",
      "                                              \n",
      "  4%|▍         | 1/25 [00:00<00:11,  2.11it/s]"
     ]
    },
    {
     "name": "stdout",
     "output_type": "stream",
     "text": [
      "{'eval_loss': 0.9968677163124084, 'eval_runtime': 0.021, 'eval_samples_per_second': 2093.322, 'eval_steps_per_second': 47.576, 'epoch': 1.0}\n"
     ]
    },
    {
     "name": "stderr",
     "output_type": "stream",
     "text": [
      "                                              \n",
      "  8%|▊         | 2/25 [00:01<00:16,  1.38it/s]"
     ]
    },
    {
     "name": "stdout",
     "output_type": "stream",
     "text": [
      "{'eval_loss': 0.7652942538261414, 'eval_runtime': 0.019, 'eval_samples_per_second': 2313.693, 'eval_steps_per_second': 52.584, 'epoch': 2.0}\n"
     ]
    },
    {
     "name": "stderr",
     "output_type": "stream",
     "text": [
      "                                              \n",
      " 12%|█▏        | 3/25 [00:02<00:17,  1.27it/s]"
     ]
    },
    {
     "name": "stdout",
     "output_type": "stream",
     "text": [
      "{'eval_loss': 0.6104240417480469, 'eval_runtime': 0.02, 'eval_samples_per_second': 2197.932, 'eval_steps_per_second': 49.953, 'epoch': 3.0}\n"
     ]
    },
    {
     "name": "stderr",
     "output_type": "stream",
     "text": [
      "                                              \n",
      " 16%|█▌        | 4/25 [00:03<00:16,  1.24it/s]"
     ]
    },
    {
     "name": "stdout",
     "output_type": "stream",
     "text": [
      "{'eval_loss': 0.5060350894927979, 'eval_runtime': 0.02, 'eval_samples_per_second': 2197.985, 'eval_steps_per_second': 49.954, 'epoch': 4.0}\n"
     ]
    },
    {
     "name": "stderr",
     "output_type": "stream",
     "text": [
      "                                              \n",
      " 20%|██        | 5/25 [00:03<00:16,  1.21it/s]"
     ]
    },
    {
     "name": "stdout",
     "output_type": "stream",
     "text": [
      "{'eval_loss': 0.4368992745876312, 'eval_runtime': 0.018, 'eval_samples_per_second': 2442.195, 'eval_steps_per_second': 55.504, 'epoch': 5.0}\n"
     ]
    },
    {
     "name": "stderr",
     "output_type": "stream",
     "text": [
      "                                              \n",
      " 24%|██▍       | 6/25 [00:04<00:15,  1.21it/s]"
     ]
    },
    {
     "name": "stdout",
     "output_type": "stream",
     "text": [
      "{'eval_loss': 0.3907025456428528, 'eval_runtime': 0.02, 'eval_samples_per_second': 2198.011, 'eval_steps_per_second': 49.955, 'epoch': 6.0}\n"
     ]
    },
    {
     "name": "stderr",
     "output_type": "stream",
     "text": [
      "                                              \n",
      " 28%|██▊       | 7/25 [00:05<00:15,  1.19it/s]"
     ]
    },
    {
     "name": "stdout",
     "output_type": "stream",
     "text": [
      "{'eval_loss': 0.35652896761894226, 'eval_runtime': 0.02, 'eval_samples_per_second': 2198.011, 'eval_steps_per_second': 49.955, 'epoch': 7.0}\n"
     ]
    },
    {
     "name": "stderr",
     "output_type": "stream",
     "text": [
      "                                              \n",
      " 32%|███▏      | 8/25 [00:06<00:15,  1.09it/s]"
     ]
    },
    {
     "name": "stdout",
     "output_type": "stream",
     "text": [
      "{'eval_loss': 0.3280700743198395, 'eval_runtime': 0.047, 'eval_samples_per_second': 935.318, 'eval_steps_per_second': 21.257, 'epoch': 8.0}\n"
     ]
    },
    {
     "name": "stderr",
     "output_type": "stream",
     "text": [
      "                                              \n",
      " 36%|███▌      | 9/25 [00:07<00:15,  1.01it/s]"
     ]
    },
    {
     "name": "stdout",
     "output_type": "stream",
     "text": [
      "{'eval_loss': 0.30347180366516113, 'eval_runtime': 0.047, 'eval_samples_per_second': 935.322, 'eval_steps_per_second': 21.257, 'epoch': 9.0}\n"
     ]
    },
    {
     "name": "stderr",
     "output_type": "stream",
     "text": [
      "                                               \n",
      " 40%|████      | 10/25 [00:09<00:15,  1.03s/it]"
     ]
    },
    {
     "name": "stdout",
     "output_type": "stream",
     "text": [
      "{'eval_loss': 0.2824462950229645, 'eval_runtime': 0.048, 'eval_samples_per_second': 915.837, 'eval_steps_per_second': 20.814, 'epoch': 10.0}\n"
     ]
    },
    {
     "name": "stderr",
     "output_type": "stream",
     "text": [
      "                                               \n",
      " 44%|████▍     | 11/25 [00:10<00:14,  1.07s/it]"
     ]
    },
    {
     "name": "stdout",
     "output_type": "stream",
     "text": [
      "{'eval_loss': 0.26523593068122864, 'eval_runtime': 0.05, 'eval_samples_per_second': 879.2, 'eval_steps_per_second': 19.982, 'epoch': 11.0}\n"
     ]
    },
    {
     "name": "stderr",
     "output_type": "stream",
     "text": [
      "                                               \n",
      " 48%|████▊     | 12/25 [00:11<00:14,  1.10s/it]"
     ]
    },
    {
     "name": "stdout",
     "output_type": "stream",
     "text": [
      "{'eval_loss': 0.25147637724876404, 'eval_runtime': 0.0495, 'eval_samples_per_second': 889.159, 'eval_steps_per_second': 20.208, 'epoch': 12.0}\n"
     ]
    },
    {
     "name": "stderr",
     "output_type": "stream",
     "text": [
      "                                               \n",
      " 52%|█████▏    | 13/25 [00:12<00:13,  1.11s/it]"
     ]
    },
    {
     "name": "stdout",
     "output_type": "stream",
     "text": [
      "{'eval_loss': 0.2404833734035492, 'eval_runtime': 0.041, 'eval_samples_per_second': 1072.201, 'eval_steps_per_second': 24.368, 'epoch': 13.0}\n"
     ]
    },
    {
     "name": "stderr",
     "output_type": "stream",
     "text": [
      "                                               \n",
      " 56%|█████▌    | 14/25 [00:13<00:12,  1.11s/it]"
     ]
    },
    {
     "name": "stdout",
     "output_type": "stream",
     "text": [
      "{'eval_loss': 0.2313644289970398, 'eval_runtime': 0.047, 'eval_samples_per_second': 935.322, 'eval_steps_per_second': 21.257, 'epoch': 14.0}\n"
     ]
    },
    {
     "name": "stderr",
     "output_type": "stream",
     "text": [
      "                                               \n",
      " 60%|██████    | 15/25 [00:14<00:11,  1.11s/it]"
     ]
    },
    {
     "name": "stdout",
     "output_type": "stream",
     "text": [
      "{'eval_loss': 0.2237759679555893, 'eval_runtime': 0.049, 'eval_samples_per_second': 897.147, 'eval_steps_per_second': 20.39, 'epoch': 15.0}\n"
     ]
    },
    {
     "name": "stderr",
     "output_type": "stream",
     "text": [
      "                                               \n",
      " 64%|██████▍   | 16/25 [00:15<00:10,  1.12s/it]"
     ]
    },
    {
     "name": "stdout",
     "output_type": "stream",
     "text": [
      "{'eval_loss': 0.2177814543247223, 'eval_runtime': 0.048, 'eval_samples_per_second': 915.841, 'eval_steps_per_second': 20.815, 'epoch': 16.0}\n"
     ]
    },
    {
     "name": "stderr",
     "output_type": "stream",
     "text": [
      "                                               \n",
      " 68%|██████▊   | 17/25 [00:16<00:08,  1.12s/it]"
     ]
    },
    {
     "name": "stdout",
     "output_type": "stream",
     "text": [
      "{'eval_loss': 0.2132616490125656, 'eval_runtime': 0.046, 'eval_samples_per_second': 955.66, 'eval_steps_per_second': 21.72, 'epoch': 17.0}\n"
     ]
    },
    {
     "name": "stderr",
     "output_type": "stream",
     "text": [
      "                                               \n",
      " 72%|███████▏  | 18/25 [00:18<00:07,  1.13s/it]"
     ]
    },
    {
     "name": "stdout",
     "output_type": "stream",
     "text": [
      "{'eval_loss': 0.20988598465919495, 'eval_runtime': 0.049, 'eval_samples_per_second': 897.142, 'eval_steps_per_second': 20.39, 'epoch': 18.0}\n"
     ]
    },
    {
     "name": "stderr",
     "output_type": "stream",
     "text": [
      "                                               \n",
      " 76%|███████▌  | 19/25 [00:19<00:06,  1.15s/it]"
     ]
    },
    {
     "name": "stdout",
     "output_type": "stream",
     "text": [
      "{'eval_loss': 0.2075701355934143, 'eval_runtime': 0.045, 'eval_samples_per_second': 976.891, 'eval_steps_per_second': 22.202, 'epoch': 19.0}\n"
     ]
    },
    {
     "name": "stderr",
     "output_type": "stream",
     "text": [
      "                                               \n",
      " 80%|████████  | 20/25 [00:20<00:05,  1.16s/it]"
     ]
    },
    {
     "name": "stdout",
     "output_type": "stream",
     "text": [
      "{'eval_loss': 0.20600929856300354, 'eval_runtime': 0.047, 'eval_samples_per_second': 935.318, 'eval_steps_per_second': 21.257, 'epoch': 20.0}\n"
     ]
    },
    {
     "name": "stderr",
     "output_type": "stream",
     "text": [
      "                                               \n",
      " 84%|████████▍ | 21/25 [00:21<00:04,  1.15s/it]"
     ]
    },
    {
     "name": "stdout",
     "output_type": "stream",
     "text": [
      "{'eval_loss': 0.2049667239189148, 'eval_runtime': 0.047, 'eval_samples_per_second': 935.318, 'eval_steps_per_second': 21.257, 'epoch': 21.0}\n"
     ]
    },
    {
     "name": "stderr",
     "output_type": "stream",
     "text": [
      "                                               \n",
      " 88%|████████▊ | 22/25 [00:22<00:03,  1.14s/it]"
     ]
    },
    {
     "name": "stdout",
     "output_type": "stream",
     "text": [
      "{'eval_loss': 0.20428448915481567, 'eval_runtime': 0.0499, 'eval_samples_per_second': 881.106, 'eval_steps_per_second': 20.025, 'epoch': 22.0}\n"
     ]
    },
    {
     "name": "stderr",
     "output_type": "stream",
     "text": [
      "                                               \n",
      " 92%|█████████▏| 23/25 [00:23<00:02,  1.13s/it]"
     ]
    },
    {
     "name": "stdout",
     "output_type": "stream",
     "text": [
      "{'eval_loss': 0.20385998487472534, 'eval_runtime': 0.051, 'eval_samples_per_second': 861.965, 'eval_steps_per_second': 19.59, 'epoch': 23.0}\n"
     ]
    },
    {
     "name": "stderr",
     "output_type": "stream",
     "text": [
      "                                               \n",
      " 96%|█████████▌| 24/25 [00:24<00:01,  1.13s/it]"
     ]
    },
    {
     "name": "stdout",
     "output_type": "stream",
     "text": [
      "{'eval_loss': 0.20363718271255493, 'eval_runtime': 0.047, 'eval_samples_per_second': 935.318, 'eval_steps_per_second': 21.257, 'epoch': 24.0}\n"
     ]
    },
    {
     "name": "stderr",
     "output_type": "stream",
     "text": [
      "                                               \n",
      "100%|██████████| 25/25 [00:26<00:00,  1.16s/it]"
     ]
    },
    {
     "name": "stdout",
     "output_type": "stream",
     "text": [
      "{'eval_loss': 0.20351558923721313, 'eval_runtime': 0.038, 'eval_samples_per_second': 1156.861, 'eval_steps_per_second': 26.292, 'epoch': 25.0}\n"
     ]
    },
    {
     "name": "stderr",
     "output_type": "stream",
     "text": [
      "100%|██████████| 25/25 [00:27<00:00,  1.11s/it]\n"
     ]
    },
    {
     "name": "stdout",
     "output_type": "stream",
     "text": [
      "{'train_runtime': 27.8291, 'train_samples_per_second': 154.515, 'train_steps_per_second': 0.898, 'train_loss': 0.31497222900390626, 'epoch': 25.0}\n"
     ]
    },
    {
     "data": {
      "text/plain": [
       "('./finetuned_distilbert_ner\\\\tokenizer_config.json',\n",
       " './finetuned_distilbert_ner\\\\special_tokens_map.json',\n",
       " './finetuned_distilbert_ner\\\\vocab.txt',\n",
       " './finetuned_distilbert_ner\\\\added_tokens.json',\n",
       " './finetuned_distilbert_ner\\\\tokenizer.json')"
      ]
     },
     "execution_count": 5,
     "metadata": {},
     "output_type": "execute_result"
    }
   ],
   "source": [
    "# Create data collator for padding inputs\n",
    "data_collator = DataCollatorForTokenClassification(tokenizer)\n",
    "\n",
    "# Set training arguments\n",
    "training_args = TrainingArguments(\n",
    "    output_dir=\"./ner_model_finetuned\",  # Output directory\n",
    "    evaluation_strategy=\"epoch\",         # Evaluate every epoch\n",
    "    learning_rate=2e-5,                  # Learning rate\n",
    "    per_device_train_batch_size=200,      # Batch size\n",
    "    per_device_eval_batch_size=200,       # Batch size for evaluation\n",
    "    num_train_epochs=25 ,                  # Number of epochs\n",
    "    weight_decay=0.01,                   # Strength of weight decay\n",
    "    load_best_model_at_end=True,\n",
    "    save_strategy='epoch',\n",
    ")\n",
    "train_size = (int(len(tokenized_datasets)*0.8))\n",
    "test_size = len(tokenized_datasets)- train_size\n",
    "train_set,eval_set = random_split(tokenized_datasets,[train_size,test_size])\n",
    "# Initialize the Trainer\n",
    "trainer = Trainer(\n",
    "    model=model,\n",
    "    args=training_args,\n",
    "    train_dataset=train_set,\n",
    "    eval_dataset=eval_set,\n",
    "    tokenizer=tokenizer,\n",
    "    data_collator=data_collator,\n",
    "    callbacks=[SaveMetricsCallback]\n",
    ")\n",
    "\n",
    "# Train the model\n",
    "trainer.train()\n",
    "\n",
    "# Save the fine-tuned model\n",
    "model.save_pretrained(\"./finetuned_distilbert_ner\")\n",
    "tokenizer.save_pretrained(\"./finetuned_distilbert_ner\")"
   ]
  },
  {
   "cell_type": "code",
   "execution_count": 7,
   "metadata": {},
   "outputs": [],
   "source": [
    "fine_tuned_path = \"finetuned_distilbert_ner\"\n",
    "fine_tuned_model = AutoModelForTokenClassification.from_pretrained(fine_tuned_path)\n",
    "fine_tuned_tokenizer = AutoTokenizer.from_pretrained(fine_tuned_path)\n",
    "\n",
    "pipe = pipeline(task = 'ner', model = fine_tuned_model, tokenizer= fine_tuned_tokenizer, device= device)"
   ]
  },
  {
   "cell_type": "code",
   "execution_count": 8,
   "metadata": {},
   "outputs": [
    {
     "name": "stdout",
     "output_type": "stream",
     "text": [
      "Ta -> B-MOU\n",
      "##tra -> B-MOU\n",
      "Mountains -> I-MOU\n",
      "Z -> B-MOU\n",
      "##dia -> B-MOU\n",
      "##r -> B-MOU\n",
      "' -> B-MOU\n"
     ]
    }
   ],
   "source": [
    "input = \"Nestled between the soaring peaks of the Tatra Mountains, Zdiar's picturesque charm draws visitors from all over\"\n",
    "output = pipe(input)\n",
    "for word in output:\n",
    "    print(f\"{word['word']} -> {word['entity']}\")"
   ]
  },
  {
   "cell_type": "code",
   "execution_count": 6,
   "metadata": {},
   "outputs": [
    {
     "name": "stdout",
     "output_type": "stream",
     "text": [
      "token number = 2783\n",
      "sentances number = 216\n"
     ]
    },
    {
     "data": {
      "image/png": "[encoded data removed]",
      "text/plain": [
       "<Figure size 640x480 with 1 Axes>"
      ]
     },
     "metadata": {},
     "output_type": "display_data"
    }
   ],
   "source": [
    "token_number = sum([len(i) for i in tokenized_datasets['tokens']])\n",
    "sentances = len(tokenized_datasets)\n",
    "print(f\"token number = {token_number}\")\n",
    "print(f\"sentances number = {sentances}\")\n",
    "\n",
    "# plot loss curve\n",
    "with open(\"./ner_model_finetuned/metrics.json\", \"r\") as f:\n",
    "    metrics_per_epoch = json.load(f)\n",
    "\n",
    "# Plot metrics (e.g., evaluation loss)\n",
    "epochs = range(1, len(metrics_per_epoch) + 1)\n",
    "eval_losses = [epoch[\"eval_loss\"] for epoch in metrics_per_epoch]\n",
    "\n",
    "plt.plot(epochs, eval_losses, label=\"Eval Loss\")\n",
    "plt.xlabel('Epochs')\n",
    "plt.ylabel('Eval Loss')\n",
    "plt.title('Evaluation Loss over Epochs')\n",
    "plt.legend()\n",
    "plt.show()"
   ]
  },
  {
   "cell_type": "code",
   "execution_count": 123,
   "metadata": {},
   "outputs": [],
   "source": [
    "# Define the model name or path to the finetuned model\n",
    "model_name = \"finetuned_distilbert_ner\"  # Replace with your model path\n",
    "\n",
    "# Load the pre-trained model and tokenizer for token classification (NER)\n",
    "model = AutoModelForTokenClassification.from_pretrained(model_name)\n",
    "tokenizer = AutoTokenizer.from_pretrained(model_name)\n",
    "\n",
    "# Set the model to evaluation mode (disables dropout and other training-specific operations)\n",
    "model.eval()\n",
    "\n",
    "# Initialize lists to store accuracy, precision, recall, and F1 score for each evaluation sample\n",
    "accuracy_list, precision_list, recall_list, f1_list = [], [], [], []\n",
    "\n",
    "# Loop over the evaluation dataset\n",
    "for sample in eval_set:\n",
    "    # Convert the ground truth labels and input features (input_ids, attention_mask) into PyTorch tensors\n",
    "    y_true = torch.tensor(sample['labels'])\n",
    "    input_ids = torch.tensor([sample['input_ids']])\n",
    "    attention_mask = torch.tensor([sample['attention_mask']])\n",
    "\n",
    "    # Perform inference without computing gradients (for faster evaluation)\n",
    "    with torch.no_grad():  # Disable gradient calculation since we're only doing evaluation\n",
    "        outputs = model(input_ids=input_ids, attention_mask=attention_mask)\n",
    "\n",
    "    # Extract the logits (raw model predictions) from the output and squeeze to remove extra dimensions\n",
    "    logits = outputs.logits.squeeze()\n",
    "\n",
    "    # Get the predicted class for each token by selecting the index of the maximum logit (most probable class)\n",
    "    predictions = torch.argmax(logits, dim=1)\n",
    "\n",
    "    # Calculate evaluation metrics: accuracy, precision, recall, and F1 score\n",
    "    accuracy = accuracy_score(y_true, predictions)\n",
    "    precision, recall, f1, _ = precision_recall_fscore_support(y_true, predictions, average='weighted', zero_division=True)\n",
    "\n",
    "    # Append each metric to its corresponding list for analysis later\n",
    "    accuracy_list.append(accuracy)\n",
    "    precision_list.append(precision)\n",
    "    recall_list.append(recall)\n",
    "    f1_list.append(f1)"
   ]
  },
  {
   "cell_type": "code",
   "execution_count": 125,
   "metadata": {},
   "outputs": [
    {
     "name": "stdout",
     "output_type": "stream",
     "text": [
      "Accytacy= 0.7906569963289694\n",
      "Precision= 0.8536029074588288\n",
      "Recall= 0.7906569963289694\n",
      "f1_list= 0.7117091315269529\n"
     ]
    }
   ],
   "source": [
    "print(f\"Accytacy= {sum(accuracy_list)/len(accuracy_list)}\")\n",
    "print(f\"Precision= {sum(precision_list)/len(precision_list)}\")\n",
    "print(f\"Recall= {sum(recall_list)/len(recall_list)}\")\n",
    "print(f\"f1_list= {sum(f1_list)/len(f1_list)}\")\n"
   ]
  },
  {
   "cell_type": "code",
   "execution_count": null,
   "metadata": {},
   "outputs": [],
   "source": []
  }
 ],
 "metadata": {
  "kernelspec": {
   "display_name": ".venv",
   "language": "python",
   "name": "python3"
  },
  "language_info": {
   "codemirror_mode": {
    "name": "ipython",
    "version": 3
   },
   "file_extension": ".py",
   "mimetype": "text/x-python",
   "name": "python",
   "nbconvert_exporter": "python",
   "pygments_lexer": "ipython3",
   "version": "3.11.9"
  }
 },
 "nbformat": 4,
 "nbformat_minor": 2
}
