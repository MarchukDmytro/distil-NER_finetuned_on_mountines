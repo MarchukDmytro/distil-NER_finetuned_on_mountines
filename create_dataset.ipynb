{
 "cells": [
  {
   "cell_type": "code",
   "execution_count": 2,
   "metadata": {},
   "outputs": [
    {
     "name": "stderr",
     "output_type": "stream",
     "text": [
      "d:\\intern\\phi\\.venv\\Lib\\site-packages\\tqdm\\auto.py:21: TqdmWarning: IProgress not found. Please update jupyter and ipywidgets. See https://ipywidgets.readthedocs.io/en/stable/user_install.html\n",
      "  from .autonotebook import tqdm as notebook_tqdm\n"
     ]
    }
   ],
   "source": [
    "import re\n",
    "import json\n",
    "import numpy as np\n",
    "from datasets import Dataset\n",
    "from transformers import AutoModelForCausalLM, AutoTokenizer, pipeline, AutoModelForTokenClassification\n",
    "\n",
    "device = \"cuda\""
   ]
  },
  {
   "cell_type": "markdown",
   "metadata": {},
   "source": [
    "Below is the code for generetion raw unlabeled text. \n",
    "\n",
    "In results generating already labeled data from copilot is a lot faster, but have worse label accuracy"
   ]
  },
  {
   "cell_type": "code",
   "execution_count": 22,
   "metadata": {},
   "outputs": [
    {
     "name": "stderr",
     "output_type": "stream",
     "text": [
      "`flash-attention` package not found, consider installing for better performance: No module named 'flash_attn'.\n",
      "Current `flash-attention` does not support `window_size`. Either upgrade or use `attn_implementation='eager'`.\n",
      "Loading checkpoint shards: 100%|██████████| 2/2 [00:10<00:00,  5.50s/it]\n"
     ]
    }
   ],
   "source": [
    "# Load a pre-trained causal language model and tokenizer, then set up a text generation pipeline.\n",
    "phi_path = 'Phi-3.5-mini-instruct'\n",
    "\n",
    "model = AutoModelForCausalLM.from_pretrained(\n",
    "    phi_path, \n",
    "    device_map=device, \n",
    "    torch_dtype=\"auto\", \n",
    "    trust_remote_code=True, \n",
    ")\n",
    "tokenizer = AutoTokenizer.from_pretrained(phi_path)\n",
    "\n",
    "pipe = pipeline(\n",
    "    \"text-generation\",\n",
    "    model=model,\n",
    "    tokenizer=tokenizer,\n",
    ")\n",
    "\n",
    "messages = [\n",
    "    {\"role\": \"system\", \"content\": \"You are a helpful AI assistant\"},\n",
    "    {\"role\": \"user\", \"content\": \"Write a ten short sentences with mountain name, use different names\"},\n",
    "\n",
    "]\n",
    "\n",
    "generation_args = {\n",
    "    \"max_new_tokens\": 500,\n",
    "    \"return_full_text\": False,\n",
    "    \"temperature\": 2.0,\n",
    "    \"do_sample\": True,\n",
    "}"
   ]
  },
  {
   "cell_type": "code",
   "execution_count": null,
   "metadata": {},
   "outputs": [],
   "source": [
    "# create 1000 sentence\n",
    "for  i in range(100):\n",
    "    try:\n",
    "        output = pipe(messages, **generation_args)\n",
    "\n",
    "        with open('dataset.txt', 'a', encoding='utf-8') as file:\n",
    "                file.write(output[0]['generated_text'] + '\\n')  # Write text and move to the next line\n",
    "    except:\n",
    "        pass"
   ]
  },
  {
   "cell_type": "code",
   "execution_count": null,
   "metadata": {},
   "outputs": [],
   "source": [
    "# clearing bad sentences\n",
    "def clear_dataset(filename):\n",
    "\n",
    "    with open(filename, 'r', encoding='utf-8') as file:\n",
    "        lines = file.readlines()\n",
    "\n",
    "    # Filter out empty lines, lines that dont end with dot or longer than 150. Also clear number dot before every sentence\n",
    "    c_dataset = [re.sub(r'^\\d+\\.\\s*', '', line) for line in lines if line.rstrip().endswith('.') and len(line) <= 150]\n",
    "\n",
    "    return c_dataset\n",
    "# save it\n",
    "with open('dataset.txt', 'w', encoding='utf-8') as file:\n",
    "    file.write(clear_dataset('dataset.txt'))\n"
   ]
  },
  {
   "cell_type": "markdown",
   "metadata": {},
   "source": [
    "Next you need to lable this data, i did this with Microsoft copilot\n",
    " \n",
    "Next is creating dataset wrom raw text in format \"word (entity) word (entity)...\""
   ]
  },
  {
   "cell_type": "code",
   "execution_count": 3,
   "metadata": {},
   "outputs": [
    {
     "name": "stderr",
     "output_type": "stream",
     "text": [
      "Saving the dataset (1/1 shards): 100%|██████████| 216/216 [00:00<00:00, 53949.24 examples/s]"
     ]
    },
    {
     "name": "stdout",
     "output_type": "stream",
     "text": [
      "[0, 1, 2, 3, 4, 5, 6, 7, 8, 9, 10, 11, 12, 13, 14, 15, 16, 17, 18, 19, 20, 21, 22, 23, 24, 25, 26, 27, 28, 29, 30, 31, 32, 33, 34, 35, 36, 37, 38, 39, 40, 41, 42, 43, 44, 45, 46, 47, 48, 49, 50, 51, 52, 53, 54, 55, 56, 57, 58, 59, 60, 61, 62, 63, 64, 65, 66, 67, 68, 69, 70, 71, 72, 73, 74, 75, 76, 77, 78, 79, 80, 81, 82, 83, 84, 85, 86, 87, 88, 89, 90, 91, 92, 93, 94, 95, 96, 97, 98, 99, 100, 101, 102, 103, 104, 105, 106, 107, 108, 109, 110, 111, 112, 113, 114, 115, 116, 117, 118, 119, 120, 121, 122, 123, 124, 125, 126, 127, 128, 129, 130, 131, 132, 133, 134, 135, 136, 137, 138, 139, 140, 141, 142, 143, 144, 145, 146, 147, 148, 149, 150, 151, 152, 153, 154, 155, 156, 157, 158, 159, 160, 161, 162, 163, 164, 165, 166, 167, 168, 169, 170, 171, 172, 173, 174, 175, 176, 177, 178, 179, 180, 181, 182, 183, 184, 185, 186, 187, 188, 189, 190, 191, 192, 193, 194, 195, 196, 197, 198, 199, 200, 201, 202, 203, 204, 205, 206, 207, 208, 209, 210, 211, 212, 213, 214, 215]\n",
      "[['Mount', 'Everest', 'stands', 'boldly', 'within', 'the', 'Khumbu', 'icefall'], ['K2', ',', 'also', 'known', 'as', 'Qogghio', ',', 'reveals', 'an', 'unforced', 'beauty', 'in', 'its', 'remote', 'terrain', '.'], ['The', 'towering', 'Rocky', 'Mountains', 'offer', 'hikers', 'rugged', 'landscapes', 'that', 'captivate', 'year-round', '.'], ['Denali', 'looming', 'across', 'Alaska', ',', 'serves', 'as', 'America', \"'s\", 'third-highest', 'mountain', 'summit'], [\"Vancouver's\", 'Skyride', 'cable', 'car', 'ascends', 'against', 'Columbia', 'Mountain', 'for', 'vantage', 'points', '.'], ['Mount', 'Mitchell', 'pierces', 'Virginia', 'clouds', ',', 'leading', 'skyward', 'as', \"America's\", 'crown', 'height', '.'], ['Himalayas', 'majestically', 'climb', 'through', 'Nepal', 'asserting', \"gravity's\", 'dominion', 'with', 'every', 'peak', '.'], ['Scottish', 'Lochaber', 'Range', 'hosts', 'hills', 'like', 'Aonach', 'airgais', ',', 'carved', 'in', \"nature's\", 'mood', '.'], ['Standing', 'strong', 'over', 'the', 'horizon', 'is', 'the', 'majestic', 'Ben', 'Nevis', 'in', 'Scotland', ',', 'towering', 'nearly', '1,413', 'meters', 'in', 'majestic', 'beauty', '.'], ['Majestic', 'and', 'snow-topped', ',', 'Denali', 'in', 'Alaska', 'cast', 'a', 'breathtaking', 'silhouette', 'under', 'clear', 'azure', 'skies', 'over', 'vast', 'American', 'taigens', '.'], ['Carrot-red', 'rock', 'flanks', 'rise', 'towards', 'an', 'impoverishly', 'blue', 'dome', 'over', 'Mount', 'Monanoko', 'with', 'each', 'crevice', 'intrigued', 'adventuraversary', 'eyes', 'across', 'Mongolia', '.'], ['Everest', 'stands', 'tall', 'in', 'the', 'Himalayas', ',', 'reaching', 'the', 'peak', 'where', 'humans', 'encounter', 'thin', 'air', '.'], ['Denali', 'redefines', 'boundaries', 'in', 'Alaska', ',', 'showcasing', 'frostbit', 'gorges', 'within', 'native', 'wilderness', '.'], ['Machu', 'Picchu', 'crowns', 'South', 'American', 'splendor', 'in', 'Colombia', ',', 'wrapped', 'across', 'dramatic', 'switchbacks', 'called', 'the', 'Inca', 'Trail', '.'], ['Vinicunca', 'is', 'the', 'tale', 'the', 'Andes', 'recount', 'or', 'should', 'callously', 'refer', 'to', 'as', 'Rainbow', 'Mountain', 'in', 'Bolivian', 'valleys', '.'], ['Kilimanjaro', 'challenges', 'its', 'admirers', 'in', \"Tanzania's\", 'southeast', ',', 'a', 'stunted', 'lush', 'jail', 'from', \"frost's\", 'clime', ',', 'a', 'savanna', 'sanctuary', 'for', 'climbs', 'divine', '.'], ['Coloradoan', 'snowcaps', 'hive-swat', 'snow', ':', 'Colorado', ',', 'snowy', 'blush', 'as', 'glaciers', 'taper', 'and', 'retreat', 'to', 'shred', 'into', 'river', 'run', '.'], ['The', 'Himalayas', 'tower', 'majestically', ',', 'home', 'to', 'the', 'Sagarmatha', ',', 'recognized', 'as', \"Earth's\", 'highest', 'peak', ':', 'Mount', 'Everest', '.'], [\"Spain's\", 'Asturias', 'Region', 'is', 'accented', 'greatly', ',', 'boasting', 'the', 'Anciny', \"Hill's\", 'exquisite', ',', 'untouched', 'topness', '.'], ['Deep', 'red', 'gneiss', 'underlain', 'here', 'marks', 'the', \"Camel's\", 'Hump', 'mountain', ',', 'an', 'icon', 'for', 'Gran', 'Vent-trails', 'enthusiasts', 'in', 'North', 'Granary', 'of', 'Vermont', '.'], ['Diving', 'steep', 'canyerous', 'landscape', ',', 'Alaska', 'show', 'presents', 'Mount', 'McKinley', 'as', 'the', 'highest', 'on', 'U.S', 'continent', '.'], ['Denali', ',', 'known', 'as', 'Mount', 'Whitney', 'in', 'certain', 'regions', ',', 'pierces', 'the', 'skies', 'with', 'its', 'impressive', 'summit', '.'], ['Mount', 'Kilimanjaro', 'looms', 'proud', 'to', 'the', 'southeast', 'of', 'Tanzania’s', 'savanna', 'plains', '.'], ['The', 'formidable', 'Mount', 'Fuji', 'grape-shapes', 'itself', 'as', 'Japan', 'contemplates', 'an', 'onlooking', 'landscape', '.'], ['Andes', 'Mountains', 'slender', 'trails', 'carve', 'through', 'the', 'landscape', 'of', 'South', 'America', '.'], ['Annapurna', 'Trek', 'in', 'the', 'Himalayas', 'in', 'Nepal', ',', 'offers', 'trekkers', 'unparalleled', 'scenery', 'richness', '.'], ['Mont', \"Blanc's\", 'snow', 'peaks', 'piercy', 'chisps', 'an', 'impressively', 'northwestern', 'face', 'against', 'sky', 'blue', '.'], ['Mount', 'Meru', 'in', 'Tanzania', 'whispers', 'secrets', 'to', 'elephany', 'travels', 'amid', 'vibrant', 'wild', 'lives', '.'], ['Patagonian', 'ice', 'age', 'sculptors', 'have', 'formed', 'major', 'landscapes', 'and', 'features', 'around', 'Andamiro', ',', 'as', 'a', 'backdrop', 'at', \"continents'\", 'final', 'sigh', '.'], ['Mount', 'Kilimanjaro’s', 'pristine', 'virgin', 'doth', 'boast', 'itself', 'free', 'from', 'the', 'snares', 'of', \"timbermen'd\", 'hand', 'and', 'mineweller', 'at', 'its', 'sumptuous', 'peak', '.'], ['The', 'majestic', 'Mount', 'Everest', 'rises', 'above', 'the', 'clouds', 'of', 'Nepal', ',', 'claiming', 'the', 'reputation', 'as', 'the', 'highest', 'peak', 'on', 'Earth', '.'], ['The', 'snowcapped', 'Grand', 'Teton', 'stands', 'proudly', 'between', 'Yellowstone', 'National', \"Park's\", 'famed', 'landscapes', 'in', 'wilderness', 'western', 'United', 'States', 'of', 'America', '.'], ['K2', ',', 'also', 'known', 'as', 'Mount', 'Godwin', 'Austin', ',', 'dwarfs', 'its', 'nearest', 'companions', 'with', 'its', 'daunting', '8,611', 'meters', 'of', 'intimidating', 'vertical', 'challenge', '.'], [\"Australia's\", 'Mount', \"Fitzroy's\", 'brilliant', 'white', 'peaks', 'piercing', 'above', 'rugged', 'wilderness', 'provide', 'breath-taking', 'views', '.'], ['The', 'icy', 'awe', 'of', \"Argentina's\", 'Torre', 'Egger', 'tower', 'in', \"Aconcagua's\", 'Cordillera', 'delle', 'Azurru', ',', 'reigning', '8,034', 'meters', 'skywards', '.'], ['New', 'Ireland', 'island', 'boasts', 'Kumbing', 'Mountains', 'in', 'Milne', 'Bay', 'Province', ',', 'featuring', 'dramatic', 'land', 'slices', 'to', 'vistas', 'both', 'majestic', '.'], [\"Africa's\", 'low', \"rise'\", 'Djambula', 'mountain', 'near', 'Libbie', ',', 'is', 'known', 'by', 'Tuemajergo', 'to', 'its', 'Aboriginal', 'dwelling', '.'], ['Hampre', ',', 'located', 'deeply', 'in', 'Kamboja', 'mountains', ',', 'reflects', 'tales', 'ancient', 'folklores', 'steaming', 'between', 'Pahranguy', 'mountains', '.'], ['Mount', 'Everest', ',', 'perched', 'at', '29,031', 'feet', ',', 'serves', 'as', \"Earth's\", 'highest', 'natural', 'point', '.'], ['The', 'formidable', 'Mount', 'Fuji', 'grape-shapes', 'itself', 'as', 'Japan', 'contemplates', 'an', 'onlooking', 'landscape', '.'], ['The', 'snowtipped', 'grandeur', 'of', 'Aconcagua', 'lights', 'up', 'amid', 'endless', 'expanses', 'bordered', 'by', 'icy', 'Andean', 'deserts', 'in', 'Western', 'South', \"America's\", 'majesty', '.'], ['The', '5,209-meter', 'summit', 'spire', 'ascends', 'stoically', 'under', 'the', 'Antarctic', 'sun', '-', 'Antarctic', 'Peninsula', 'lording', 'a', 'frosty', 'icy', 'spree', 'nearing', 'sea', 'level', '.'], ['Stylish', 'yet', 'bold', 'stands', 'Kilimanjaro', 'as', 'nature', 'crowns', 'its', 'African', 'might', 'without', 'foray', 'ventured', 'by', 'man', 'or', 'beasts', 'of', 'lore', '.'], ['The', 'stark', 'beauty', 'that', 'is', 'Nyevska', 'peaks', 'at', 'their', 'apex', ',', 'so', 'much', 'sky', 'reaches', 'ground', 'in', 'snowed', 'Alpes', 'regions', '.'], ['Mount', 'Everest', 'stands', 'tall', 'in', 'the', 'Himalayas', ',', 'reaching', 'breathtaking', 'heights', 'that', 'hikers', 'aspire', 'to', 'conquer', '.'], ['Mount', 'Everest', 'challenges', 'climbers', 'from', 'around', 'the', 'world', 'as', 'it', 'stands', 'as', 'the', 'tallest', 'mountain', 'on', 'Earth', 'above', '8,000', 'meters', '.'], ['Alpes', 'glacier', 'are', 'majestic', 'icy', 'peaks', 'that', 'blanket', 'much', 'of', \"Europe's\", 'Swiss', 'landscape', 'alongside', 'France', '.'], ['Rocky', 'Mountains', 'traverse', 'North', 'America', ',', 'divider', 'and', 'linking', 'its', 'wildlife', 'rich', 'landscapes', 'and', 'forests', 'running', 'deep', 'with', 'waterfall', 'rivers', '.'], ['Angrite', 'rocks', 'form', \"Alcatukai's\", 'unique', 'cathedral-like', 'formation', ',', 'sculpted', 'over', 'millennia', 'to', 'befit', \"Hawai'i's\", 'emerald', 'sea', 'coast', '.'], ['The', 'imposing', 'Mount', 'McKinley', 'looms', 'tall', 'above', \"Alaska's\", 'Denali', 'basin', ',', 'showier', 'during', 'polar', \"daylight's\", 'hue', 'than', 'from', 'beyond', 'horizon', '.'], ['Annapurna', 'cirrus', 'forms', 'ethereal', 'atmoshiri', 'layers', 'circling', 'inland', 'Nepal', 'that', 'are', 'said', 'to', 'be', 'ancient', 'and', 'ever', 'watchful', 'of', \"earth's\", 'ephemeral', 'changes', '.'], ['Mount', 'Everest', ',', 'towering', 'over', 'Nepal', 'and', 'Tibet', 'with', 'its', 'lofty', '29,031', 'feet', 'as', 'the', 'tallest', 'peak', 'on', 'Earth', '.'], ['Mount', 'Everest', 'boasts', 'the', 'honor', 'of', 'being', 'the', \"world's\", 'highest', 'peak', '.'], ['Denali', ',', 'or', 'Mount', 'McKinley', ',', 'stands', 'majestically', 'above', 'the', 'Alaska', 'landscape', '.'], ['Kilimanjaro', 'towers', 'in', 'Tanzania', 'with', 'its', 'three', 'massive', 'glacial', 'summits', 'glistening', 'in', 'sunlight', '.'], ['Mount', 'Aconcagua', 'residing', 'dominant', 'in', 'Patagonia’s', 'stunning', 'southern', 'wilderness', ',', 'holding', 'a', 'great', 'deal', 'of', 'mystique', '.'], ['Arancsinna', 'Ronda', 'at', \"Bulgaria's\", 'peak', ',', '2163', 'meters', 'tall', 'echoing', 'historical', 'remarcesome', 'silence', 'where', 'echoes', 'live', 'longer', 'stories', '.'], ['At', 'night', ',', 'the', 'snowtipped', 'grandeur', 'of', 'Aconcagua', 'lights', 'up', 'amid', 'endless', 'expanses', 'bordered', 'by', 'icy', 'Andean', 'deserts', 'in', 'Western', 'South', \"America's\", 'majesty', '.'], ['The', '5,209-meter', 'summit', 'spire', 'ascends', 'stoically', 'under', 'the', 'Antarctic', 'sun', '-', 'Antarctic', 'Peninsula', 'lording', 'a', 'frosty', 'icy', 'spree', 'nearing', 'sea', 'level', '.'], ['Stylish', 'yet', 'bold', ',', 'stands', 'Kilimanjaro', 'as', 'nature', 'crowns', 'its', 'African', 'might', 'without', 'foray', 'ventured', 'by', 'man', 'or', 'beasts', 'of', 'lore', '.'], ['The', 'stark', 'beauty', 'that', 'is', 'Nyevska', 'peaks', 'at', 'their', 'apex', ',', 'so', 'much', 'sky', 'reaches', 'ground', 'in', 'snowed', 'Alpes', 'regions', '.'], ['Mount', 'Everest', 'is', 'the', 'highest', 'peak', 'in', 'the', 'world', '.'], ['The', 'journey', 'to', 'the', 'top', 'of', 'Everest', 'is', 'both', 'thrilling', 'and', 'perilous', '.'], ['Climbers', 'must', 'navigate', 'the', 'treacherous', 'Khumbu', 'Icefall', 'carefully', '.'], ['Sir', 'Edmund', 'Hillary', 'and', 'Tenzing', 'Norgay', 'were', 'the', 'first', 'to', 'summit', 'Everest', 'in', '1953', '.'], ['Each', 'year', ',', 'hundreds', 'of', 'adventurers', 'attempt', 'to', 'conquer', 'Everest', '.'], ['The', 'base', 'camp', 'at', 'Mount', \"Everest's\", 'foot', 'is', 'a', 'bustling', 'hub', '.'], ['Sherpas', 'play', 'an', 'integral', 'role', 'in', 'guiding', 'climbers', 'on', 'Everest', '.'], ['The', 'view', 'from', 'the', 'summit', 'of', 'Mount', 'Everest', 'is', 'breathtaking', '.'], ['Everest', 'is', 'located', 'in', 'the', 'Himalayas', ',', 'straddling', 'Nepal', 'and', 'Tibet', '.'], ['Avalanches', 'are', 'a', 'constant', 'danger', 'on', 'Mount', 'Everest', '.'], ['The', 'Khumbu', 'glacier', 'is', 'one', 'of', 'the', 'main', 'routes', 'on', 'Everest', '.'], ['The', 'climbing', 'season', 'for', 'Mount', 'Everest', 'is', 'typically', 'from', 'April', 'to', 'May', '.'], ['The', 'summit', 'of', 'Everest', 'is', 'often', 'referred', 'to', 'as', 'the', 'roof', 'of', 'the', 'world', '.'], ['Acclimatization', 'is', 'crucial', 'for', 'climbers', 'attempting', 'to', 'reach', 'Mount', \"Everest's\", 'peak', '.'], ['The', 'height', 'of', 'Everest', 'is', 'constantly', 'being', 'measured', 'as', 'the', 'tectonic', 'plates', 'shift', '.'], ['Many', 'climbers', 'dream', 'of', 'standing', 'atop', 'Everest', '.'], ['The', 'weather', 'on', 'Everest', 'can', 'be', 'incredibly', 'unpredictable', '.'], ['Base', 'Camp', 'on', 'the', 'southern', 'side', 'of', 'Mount', 'Everest', 'is', 'in', 'Nepal', '.'], ['The', 'allure', 'of', 'summiting', 'Everest', 'attracts', 'climbers', 'from', 'around', 'the', 'globe', '.'], ['Lhotse', 'Face', 'is', 'a', 'challenging', 'climb', 'on', 'the', 'south', 'side', 'of', 'Everest', '.'], ['The', 'history', 'of', 'Mount', 'Everest', 'is', 'rich', 'with', 'exploration', 'and', 'adventure', '.'], ['Mount', 'Everest', 'was', 'first', 'identified', 'as', 'the', \"world's\", 'highest', 'peak', 'in', '1852', '.'], ['A', 'successful', 'ascent', 'of', 'Everest', 'requires', 'extensive', 'preparation', '.'], ['Rescue', 'missions', 'on', 'Mount', 'Everest', 'are', 'dangerous', 'and', 'complex', '.'], ['The', 'Himalayas', 'boast', 'several', 'peaks', 'taller', 'than', '8,000', 'meters', ',', 'with', 'Everest', 'being', 'the', 'highest', '.'], ['Mount', \"Everest's\", 'geology', 'offers', 'fascinating', 'insights', 'into', 'the', \"Earth's\", 'structure', '.'], ['Climbers', 'face', 'significant', 'physical', 'and', 'mental', 'challenges', 'on', 'Everest', '.'], ['The', 'economic', 'impact', 'of', 'Mount', 'Everest', 'on', 'local', 'communities', 'is', 'considerable', '.'], ['Mount', 'Everest', 'serves', 'as', 'a', 'powerful', 'symbol', 'of', 'human', 'perseverance', '.'], ['The', 'climbers', 'who', 'summit', 'Mount', 'Everest', 'often', 'share', 'their', 'experiences', 'in', 'books', 'and', 'documentaries', '.'], ['The', 'Khumbu', 'Icefall', 'is', 'one', 'of', 'the', 'most', 'dangerous', 'sections', 'of', 'Mount', 'Everest', '.'], ['Many', 'climbers', 'leave', 'offerings', 'to', 'the', 'mountain', 'gods', 'before', 'attempting', 'to', 'summit', 'Everest', '.'], ['Everest', 'Base', 'Camp', 'is', 'located', 'at', 'an', 'altitude', 'of', '5,364', 'meters', '.'], ['Helicopters', 'are', 'sometimes', 'used', 'to', 'rescue', 'climbers', 'from', 'Everest', '.'], ['The', 'cost', 'of', 'an', 'expedition', 'to', 'Mount', 'Everest', 'can', 'be', 'very', 'high', '.'], ['Severe', 'weather', 'can', 'trap', 'climbers', 'on', 'Everest', 'for', 'days', '.'], ['The', 'summit', 'of', 'Mount', 'Everest', 'is', 'in', 'the', 'death', 'zone', '.'], ['The', 'Nepalese', 'government', 'regulates', 'climbing', 'permits', 'for', 'Everest', '.'], ['Frostbite', 'is', 'a', 'significant', 'risk', 'for', 'those', 'climbing', 'Mount', 'Everest', '.'], ['Mount', 'Everest', 'is', 'part', 'of', 'the', 'Seven', 'Summits', 'challenge', '.'], ['The', 'route', 'through', 'the', 'South', 'Col', 'is', 'one', 'of', 'the', 'most', 'popular', 'on', 'Mount', 'Everest', '.'], ['Dangers', 'on', 'Mount', 'Everest', 'include', 'crevasses', 'and', 'falling', 'ice', '.'], ['Many', 'climbers', 'use', 'supplemental', 'oxygen', 'when', 'climbing', 'Everest', '.'], ['Mount', 'Everest', 'has', 'claimed', 'the', 'lives', 'of', 'many', 'experienced', 'climbers', '.'], ['The', 'view', 'from', 'Mount', \"Everest's\", 'summit', 'is', 'one', 'of', 'the', 'most', 'spectacular', 'on', 'Earth', '.'], ['Climbers', 'on', 'Everest', 'often', 'face', 'extreme', 'temperatures', 'and', 'high', 'winds', '.'], ['The', 'environmental', 'impact', 'of', 'climbing', 'Mount', 'Everest', 'has', 'become', 'a', 'significant', 'concern', '.'], ['Many', 'expeditions', 'to', 'Mount', 'Everest', 'are', 'guided', 'by', 'experienced', 'Sherpas', '.'], ['The', 'South', 'Summit', 'is', 'just', '100', 'meters', 'below', \"Everest's\", 'true', 'summit', '.'], ['The', 'trek', 'to', 'Everest', 'Base', 'Camp', 'is', 'an', 'adventure', 'in', 'itself', '.'], ['Mount', 'Everest', 'is', 'known', 'for', 'its', 'majestic', 'beauty', '.'], ['Many', 'climbers', 'face', 'altitude', 'sickness', 'on', 'their', 'way', 'up', 'Everest', '.'], ['The', 'Hillary', 'Step', 'was', 'a', 'famous', 'feature', 'near', 'the', 'summit', 'of', 'Mount', 'Everest', '.'], ['Mount', 'Everest', 'attracts', 'a', 'diverse', 'array', 'of', 'climbers', 'from', 'different', 'backgrounds', '.'], ['The', 'dangers', 'of', 'Mount', 'Everest', 'cannot', 'be', 'underestimated', '.'], ['The', 'Rongbuk', 'Monastery', 'is', 'located', 'near', 'the', 'base', 'of', 'Mount', 'Everest', '.'], ['Mount', 'Everest', 'is', 'a', 'UNESCO', 'World', 'Heritage', 'Site', '.'], ['The', 'summit', 'of', 'Everest', 'is', 'often', 'covered', 'in', 'snow', 'and', 'ice', '.'], ['Mount', \"Everest's\", 'height', 'is', 'constantly', 'being', 'reassessed', 'with', 'new', 'technology', '.'], ['The', 'climbing', 'community', 'around', 'Everest', 'is', 'tight-knit', 'and', 'supportive', '.'], ['The', 'extreme', 'conditions', 'on', 'Everest', 'require', 'specialized', 'equipment', '.'], ['Many', 'climbers', 'make', 'the', 'pilgrimage', 'to', 'Everest', 'every', 'year', '.'], [\"Everest's\", 'towering', 'height', 'challenges', 'even', 'the', 'fittest', 'climbers', '.'], ['Mount', 'Everest', 'rises', 'to', 'an', 'astounding', '8,849', 'meters', 'above', 'sea', 'level', '.'], ['The', 'breathtaking', 'panorama', 'from', 'Everest', 'includes', 'views', 'of', 'several', 'other', 'Himalayan', 'peaks', '.'], ['Everest', 'has', 'long', 'been', 'a', 'symbol', 'of', 'adventure', 'and', 'human', 'endurance', '.'], ['The', 'Khumbu', 'Icefall', 'is', 'notorious', 'for', 'its', 'moving', 'ice', 'towers', '.'], ['Reaching', 'the', 'summit', 'of', 'Everest', 'is', 'the', 'pinnacle', 'of', 'many', \"climbers'\", 'dreams', '.'], ['Mount', 'Everest', 'is', 'part', 'of', 'the', 'Himalayan', 'mountain', 'range', '.'], ['The', 'South', 'Col', 'route', 'is', 'one', 'of', 'the', 'most', 'popular', 'ways', 'to', 'reach', 'the', 'summit', 'of', 'Everest', '.'], [\"Everest's\", 'summit', 'is', 'often', 'shrouded', 'in', 'clouds', '.'], ['Mount', 'Everest', 'demands', 'exceptional', 'physical', 'and', 'mental', 'resilience', '.'], ['The', 'first', 'recorded', 'attempts', 'to', 'climb', 'Everest', 'began', 'in', 'the', 'early', '20th', 'century', '.'], ['The', 'terrain', 'on', 'Everest', 'is', 'both', 'stunning', 'and', 'formidable', '.'], ['Many', 'climbers', 'form', 'lifelong', 'bonds', 'during', 'their', 'expeditions', 'to', 'Mount', 'Everest', '.'], ['The', 'allure', 'of', 'Everest', 'has', 'captivated', 'adventurers', 'for', 'generations', '.'], ['Climbers', 'on', 'Mount', 'Everest', 'often', 'face', 'psychological', 'challenges', '.'], ['The', 'thin', 'air', 'at', 'high', 'altitudes', 'makes', 'breathing', 'on', 'Everest', 'difficult', '.'], ['Many', 'documentaries', 'have', 'been', 'made', 'about', 'Mount', 'Everest', '.'], ['Each', 'year,', 'new', 'records', 'are', 'set', 'on', 'Everest', '.'], ['The', 'local', 'communities', 'around', 'Mount', 'Everest', 'are', 'essential', 'to', 'climbing', 'operations', '.'], ['Everest', 'remains', 'a', 'symbol', 'of', 'human', 'aspiration', '.'], ['The', 'Khumbu', 'Glacier', 'is', 'a', 'key', 'feature', 'on', 'Mount', 'Everest', '.'], ['Preparation', 'for', 'an', 'Everest', 'expedition', 'takes', 'many', 'months', '.'], ['Mount', 'Everest', 'has', 'been', 'a', 'beacon', 'for', 'explorers', 'since', 'it', 'was', 'first', 'discovered', '.'], ['The', 'diverse', 'cultures', 'in', 'the', 'region', 'around', 'Everest', 'add', 'to', 'its', 'allure', '.'], ['The', 'high', 'altitude', 'on', 'Mount', 'Everest', 'demands', 'rigorous', 'physical', 'conditioning', '.'], ['Everest', 'remains', 'one', 'of', 'the', 'ultimate', 'challenges', 'for', 'climbers', '.'], ['The', 'Sherpas', 'who', 'guide', 'climbers', 'on', 'Mount', 'Everest', 'are', 'known', 'for', 'their', 'strength', 'and', 'expertise', '.'], ['Modern', 'technology', 'has', 'made', 'climbing', 'Mount', 'Everest', 'more', 'accessible', '.'], ['The', 'route', 'through', 'the', 'North', 'Col', 'offers', 'an', 'alternative', 'path', 'to', \"Everest's\", 'summit', '.'], ['Climbers', 'on', 'Mount', 'Everest', 'often', 'endure', 'harsh', 'weather', 'conditions', '.'], ['The', 'Everest', 'Base', 'Camp', 'trek', 'is', 'a', 'popular', 'adventure', 'for', 'many', 'travelers', '.'], ['Mount', 'Everest', 'is', 'part', 'of', 'the', 'larger', 'Himalayan', 'range', '.'], ['Many', 'climbers', 'face', 'extreme', 'cold', 'on', 'their', 'ascent', 'of', 'Everest', '.'], ['The', 'summit', 'of', 'Everest', 'offers', 'a', 'panoramic', 'view', 'of', 'the', 'surrounding', 'peaks', '.'], ['The', 'Khumbu', 'Icefall', 'is', 'one', 'of', 'the', 'most', 'challenging', 'parts', 'of', 'climbing', 'Everest', '.'], ['Many', 'climbers', 'spend', 'weeks', 'acclimatizing', 'at', 'Everest', 'Base', 'Camp', '.'], ['Mount', 'Everest', 'is', 'often', 'described', 'as', 'the', 'ultimate', 'climbing', 'challenge', '.'], ['The', 'South', 'Col', 'route', 'is', 'known', 'for', 'its', 'technical', 'difficulty', '.'], ['Many', 'climbers', 'use', 'oxygen', 'tanks', 'when', 'ascending', 'Everest', '.'], ['The', 'summit', 'of', 'Everest', 'is', 'the', 'highest', 'point', 'on', 'Earth', '.'], ['The', 'Khumbu', 'Icefall', 'is', 'a', 'significant', 'hazard', 'for', 'climbers', '.'], ['Mount', 'Everest', 'is', 'a', 'beacon', 'for', 'adventurers', 'worldwide', '.'], ['The', 'route', 'to', \"Everest's\", 'summit', 'requires', 'careful', 'planning', '.'], ['Mount', 'Kilimanjaro', 'is', 'the', 'tallest', 'mountain', 'in', 'Africa', '.'], ['The', 'Andes', 'mountain', 'range', 'runs', 'through', 'South', 'America', '.'], ['Mount', 'Fuji', 'in', 'Japan', 'is', 'an', 'iconic', 'stratovolcano', '.'], ['The', 'Alps', 'are', 'known', 'for', 'their', 'stunning', 'landscapes', 'in', 'Europe', '.'], ['K2', 'is', 'the', 'second', 'highest', 'peak', 'in', 'the', 'world', '.'], ['Mount', 'Elbrus', 'is', 'the', 'highest', 'peak', 'in', 'Europe', '.'], ['Denali', 'is', 'the', 'highest', 'mountain', 'in', 'North', 'America', '.'], ['The', 'Rocky', 'Mountains', 'stretch', 'across', 'the', 'United', 'States', 'and', 'Canada', '.'], ['The', 'Himalayas', 'are', 'home', 'to', 'many', 'of', 'the', \"world's\", 'highest', 'peaks', '.'], ['The', 'Appalachian', 'Mountains', 'are', 'located', 'in', 'the', 'eastern', 'United', 'States', '.'], ['Mount', 'Vinson', 'is', 'the', 'highest', 'peak', 'in', 'Antarctica', '.'], ['The', 'Carpathian', 'Mountains', 'form', 'an', 'arc', 'across', 'Central', 'Europe', '.'], ['Mount', 'Aconcagua', 'is', 'the', 'highest', 'peak', 'in', 'South', 'America', '.'], ['The', 'Pyrenees', 'mountains', 'separate', 'France', 'and', 'Spain', '.'], ['The', 'Ural', 'Mountains', 'mark', 'the', 'boundary', 'between', 'Europe', 'and', 'Asia', '.'], ['The', 'Atlas', 'Mountains', 'span', 'across', 'North', 'Africa', '.'], ['Mount', 'Kosciuszko', 'is', 'the', 'highest', 'peak', 'in', 'Australia', '.'], ['The', 'Sierra', 'Nevada', 'range', 'is', 'renowned', 'for', 'its', 'stunning', 'landscapes', 'in', 'California', '.'], ['Mount', 'McKinley', ',', 'also', 'known', 'as', 'Denali', ',', 'towers', 'over', 'Alaska', '.'], ['The', 'Caucasus', 'Mountains', 'stretch', 'between', 'the', 'Black', 'Sea', 'and', 'the', 'Caspian', 'Sea', '.'], ['Mount', 'Rainier', 'is', 'a', 'prominent', 'volcano', 'in', 'Washington', 'State', '.'], ['The', 'Great', 'Dividing', 'Range', 'is', 'the', 'major', 'mountain', 'range', 'in', 'Australia', '.'], ['Mont', 'Blanc', 'is', 'the', 'highest', 'peak', 'in', 'the', 'Alps', '.'], ['The', 'Drakensberg', 'Mountains', 'form', 'the', 'eastern', 'portion', 'of', 'the', 'Great', 'Escarpment', 'in', 'South', 'Africa', '.'], ['Mount', 'Whitney', 'is', 'the', 'highest', 'peak', 'in', 'the', 'contiguous', 'United', 'States', '.'], ['The', 'Zagros', 'Mountains', 'run', 'through', 'Iran', 'and', 'Iraq', '.'], ['Mount', 'Puncak', 'Jaya', 'is', 'the', 'highest', 'peak', 'in', 'Oceania', '.'], ['The', 'Hindu', 'Kush', 'mountains', 'extend', 'across', 'Afghanistan', 'and', 'Pakistan', '.'], ['Mount', 'Ararat', 'is', 'located', 'in', 'Turkey', 'and', 'is', 'traditionally', 'associated', 'with', \"Noah's\", 'Ark', '.'], ['The', 'Green', 'Mountains', 'are', 'a', 'prominent', 'range', 'in', 'Vermont', ',', 'USA', '.'], ['Mount', 'Kilimanjaro', 'is', 'the', 'tallest', 'mountain', 'in', 'Africa', '.'], ['The', 'Andes', 'mountain', 'range', 'runs', 'through', 'South', 'America', '.'], ['Mount', 'Fuji', 'in', 'Japan', 'is', 'an', 'iconic', 'stratovolcano', '.'], ['The', 'Alps', 'are', 'known', 'for', 'their', 'stunning', 'landscapes', 'in', 'Europe', '.'], ['K2', 'is', 'the', 'second', 'highest', 'peak', 'in', 'the', 'world', '.'], ['Mount', 'Elbrus', 'is', 'the', 'highest', 'peak', 'in', 'Europe', '.'], ['Denali', 'is', 'the', 'highest', 'mountain', 'in', 'North', 'America', '.'], ['The', 'Rocky', 'Mountains', 'stretch', 'across', 'the', 'United', 'States', 'and', 'Canada', '.'], ['The', 'Himalayas', 'are', 'home', 'to', 'many', 'of', 'the', \"world's\", 'highest', 'peaks', '.'], ['The', 'Appalachian', 'Mountains', 'are', 'located', 'in', 'the', 'eastern', 'United', 'States', '.'], ['Mount', 'Vinson', 'is', 'the', 'highest', 'peak', 'in', 'Antarctica', '.'], ['The', 'Carpathian', 'Mountains', 'form', 'an', 'arc', 'across', 'Central', 'Europe', '.'], ['Mount', 'Aconcagua', 'is', 'the', 'highest', 'peak', 'in', 'South', 'America', '.'], ['The', 'Pyrenees', 'mountains', 'separate', 'France', 'and', 'Spain', '.'], ['The', 'Ural', 'Mountains', 'mark', 'the', 'boundary', 'between', 'Europe', 'and', 'Asia', '.'], ['The', 'Atlas', 'Mountains', 'span', 'across', 'North', 'Africa', '.'], ['Mount', 'Kosciuszko', 'is', 'the', 'highest', 'peak', 'in', 'Australia', '.'], ['The', 'Sierra', 'Nevada', 'range', 'is', 'renowned', 'for', 'its', 'stunning', 'landscapes', 'in', 'California', '.'], ['Mount', 'McKinley', ',', 'also', 'known', 'as', 'Denali', ',', 'towers', 'over', 'Alaska', '.'], ['The', 'Caucasus', 'Mountains', 'stretch', 'between', 'the', 'Black', 'Sea', 'and', 'the', 'Caspian', 'Sea', '.']]\n",
      "[[9, 10, 0, 0, 0, 0, 9, 10], [9, 0, 0, 0, 0, 10, 0, 0, 0, 0, 0, 0, 0, 0, 0, 0], [0, 0, 9, 10, 0, 0, 0, 0, 0, 0, 0, 0], [9, 0, 0, 5, 0, 0, 0, 5, 0, 0, 0, 0], [5, 0, 0, 0, 0, 0, 9, 10, 0, 0, 0, -100], [9, 10, 0, 5, 0, 0, 0, 0, 0, 5, 0, 0, -100], [9, 0, 0, 0, 5, 0, 0, 0, 0, 0, 0, 0], [5, 6, 0, 0, 0, 0, 9, 10, 0, 0, 0, 0, 0, 0], [0, 0, 0, 0, 0, 0, 0, 0, 9, 10, 0, 5, 0, 0, 0, 0, 0, 0, 0, 0, 0], [0, 0, 0, 0, 9, 0, 5, 0, 0, 0, 0, 0, 0, 0, 0, 0, 0, 5, 0, 0], [0, 0, 0, 0, 0, 0, 0, 0, 0, 0, 9, 10, 0, 0, 0, 0, 0, 0, 0, 5, 0], [9, 0, 0, 0, 0, 9, 0, 0, 0, 0, 0, 0, 0, 0, 0, 0], [9, 0, 0, 0, 5, 0, 0, 0, 0, 0, 0, 0, 0], [9, 10, 0, 5, 6, 0, 0, 5, 0, 0, 0, 0, 0, 0, 0, 5, 6, 0], [9, 0, 0, 0, 0, 9, 0, 0, 0, 0, 0, 0, 0, 9, 10, 0, 5, 0, 0], [9, 0, 0, 0, 0, 5, 0, 0, 0, 0, 0, 0, 0, 0, 0, 0, 0, 0, 0, 0, 0, 0, 0], [9, 10, 0, 0, 0, 5, 0, 0, 0, 0, 0, 0, 0, 0, 0, 0, 0, 0, 0, 0], [0, 9, 0, 0, 0, 0, 0, 0, 0, 0, 0, 0, 0, 0, 0, 0, 9, 10, 0], [5, 6, 0, 0, 0, 0, 0, 0, 0, 9, 10, 0, 0, 0, 0, 0], [0, 0, 0, 0, 0, 0, 0, 9, 10, 0, 0, 0, 0, 0, 0, 0, 0, 0, 5, 6, 0, 5, 0], [0, 0, 0, 0, 0, 5, 0, 0, 9, 10, 0, 0, 0, 0, 5, 0, 0], [9, 0, 0, 0, 9, 10, 0, 0, 0, 0, 0, 0, 0, 0, 0, 0, 0, 0], [9, 10, 0, 0, 0, 0, 0, 0, 5, 0, 0, 0], [0, 0, 9, 10, 0, 0, 0, 5, 0, 0, 0, 0, 0], [9, 10, 0, 0, 0, 0, 0, 0, 0, 5, 6, 0], [9, 10, 0, 0, 9, 0, 5, 0, 0, 0, 0, 0, 0, 0], [9, 10, 0, 0, 0, 0, 0, 0, 0, 0, 0, 0, 0, 0], [9, 10, 0, 5, 0, 0, 0, 0, 0, 0, 0, 0, 0, 0], [0, 0, 0, 0, 0, 0, 0, 0, 0, 0, 0, 0, 0, 0, 0, 0, 0, 0, 0, 0, 0], [9, 10, 0, 0, 0, 0, 0, 0, 0, 0, 0, 0, 0, 0, 0, 0, 0, 0, 0, 0, 0], [0, 0, 9, 10, 0, 0, 0, 0, 0, 5, 0, 0, 0, 0, 0, 0, 0, 0, 0, 0, 0], [0, 0, 9, 10, 0, 0, 0, 5, 6, 6, 0, 0, 0, 0, 0, 5, 6, 6, 6, 0], [9, 0, 0, 0, 0, 9, 10, 10, 0, 0, 0, 0, 0, 0, 0, 0, 0, 0, 0, 0, 0, 0, 0], [5, 9, 10, 0, 0, 0, 0, 0, 0, 0, 0, 0, 0, 0], [0, 0, 0, 0, 5, 9, 10, 0, 0, 9, 10, 10, 10, 0, 0, 0, 0, 0, 0], [5, 6, 0, 0, 9, 10, 0, 5, 6, 6, 0, 0, 0, 0, 0, 0, 0, 0, 0, 0], [5, 0, 0, 9, 10, 0, 5, 0, 0, 0, 0, 5, 0, 0, 0, 0, 0], [5, 0, 0, 0, 0, 9, 10, 0, 0, 0, 0, 0, 0, 0, 5, 10, 0], [9, 10, 0, 0, 0, 0, 0, -100, 0, 0, 5, 0, 0, 0, 0], [0, 0, 9, 10, 0, 0, 0, 5, 0, 0, 0, 0, 0], [0, 0, 0, 0, 9, 0, 0, 0, 0, 0, 0, 0, 0, 5, 0, 0, 5, 6, 6, 0, 0], [0, 0, 0, 0, 0, 0, 0, 0, 5, 0, 0, 5, 6, 0, 0, 0, 0, 0, 0, 0, 0, 0], [0, 0, 0, 0, 9, 0, 0, 0, 0, 5, 0, 0, 0, 0, 0, 0, 0, 0, 0, 0, 0], [0, 0, 0, 0, 0, 9, 0, 0, 0, 0, 0, 0, 0, 0, 0, 0, 0, 0, 9, 0, 0], [9, 10, 0, 0, 0, 0, 9, 0, 0, 0, 0, 0, 0, 0, 0, 0, 0], [9, 10, 0, 0, 0, 0, 0, 0, 0, 0, 0, 0, 0, 0, 0, 0, 0, 0, 0, 0, 0], [9, 10, 0, 0, 0, 0, 0, 0, 0, 0, 5, 5, 0, 0, 5, 0], [9, 10, 0, 5, 6, 0, 0, 0, 0, 0, 0, 0, 0, 0, 0, 0, 0, 0, 0, 0, 0], [0, 0, 0, 5, 0, 0, 0, 0, 0, 0, 0, 0, 0, 5, 0, 0, 0, 0], [0, 0, 9, 10, 0, 0, 0, 5, 6, 0, -100, 0, 0, 0, 0, 0, 0, 0, 0, 0, 0], [9, 10, 0, 0, 0, 0, 0, 0, 5, 0, 0, 0, 0, 0, 0, 0, 0, 0, 0, 0, 0, 0, 0], [9, 10, 0, 0, 0, 5, 0, 5, 0, 0, 0, 0, 0, 0, 0, 0, 0, 0, 0, 0], [9, 10, 0, 0, 0, 0, 0, 0, 0, 0, 0, 0], [9, 0, 0, 9, 10, 0, 0, 0, 0, 0, 5, 0, 0], [9, 0, 0, 5, 0, 0, 0, 0, 0, 0, 0, 0, 0, 0], [9, 10, 0, 0, 0, 5, 0, 0, 0, -100, 0, 0, 0, 0, 0, 0, 0], [5, 6, 0, 5, 0, -100, 0, 0, 0, 0, 0, 0, 0, 0, 0, 0, 0, 0, 0], [0, 0, -100, 0, 0, 0, 0, 9, 0, 0, 0, 0, 0, 0, 0, 0, 5, 0, 0, 5, 6, 6, 0, 0], [0, 0, 0, 0, 0, 0, 0, 0, 5, 0, 0, 5, 6, 0, 0, 0, 0, 0, 0, 0, 0, 0], [0, 0, 0, -100, 0, 9, 0, 0, 0, 0, 5, 0, 0, 0, 0, 0, 0, 0, 0, 0, 0, 0], [0, 0, 0, 0, 0, 9, 0, 0, 0, 0, -100, 0, 0, 0, 0, 0, 0, 0, 9, 0, 0], [9, 10, 0, 0, 0, 0, 0, 0, 0, -100], [0, 0, 0, 0, 0, 0, 9, 0, 0, 0, 0, 0, -100], [0, 0, 0, 0, 0, 9, 10, 0, -100], [0, 0, 0, 0, 0, 0, 0, 0, 0, 0, 0, 9, 0, 0, -100], [0, 0, -100, 0, 0, 0, 0, 0, 0, 9, -100], [0, 0, 0, 0, 9, 10, 0, 0, 0, 0, 0, -100], [0, 0, 0, 0, 0, 0, 0, 0, 0, 9, -100], [0, 0, 0, 0, 0, 0, 9, 10, 0, 0, -100], [9, 0, 0, 0, 0, 0, 0, 0, 0, 0, 0, -100], [0, 0, 0, 0, 0, 0, 9, 10, -100], [0, 9, 0, 0, 0, 0, 0, 0, 0, 0, 9, -100], [0, 0, 0, 0, 9, 10, 0, 0, 0, 0, 0, 0, -100], [0, 0, 0, 9, 0, 0, 0, 0, 0, 0, 0, 0, 0, 0, -100], [0, 0, 0, 0, 0, 0, 0, 0, 9, 10, 0, -100], [0, 0, 0, 9, 0, 0, 0, 0, 0, 0, 0, 0, 0, -100], [0, 0, 0, 0, 0, 0, 9, -100], [0, 0, 0, 9, 0, 0, 0, 0, -100], [0, 0, 0, 0, 0, 0, 0, 9, 10, 0, 0, 0, -100], [0, 0, 0, 0, 9, 0, 0, 0, 0, 0, 0, -100], [9, 10, 0, 0, 0, 0, 0, 0, 0, 0, 0, 9, -100], [0, 0, 0, 9, 10, 0, 0, 0, 0, 0, 0, -100], [9, 10, 0, 0, 0, 0, 0, 0, 0, 0, 0, 0, -100], [0, 0, 0, 0, 9, 0, 0, 0, -100], [0, 0, 0, 9, 10, 0, 0, 0, 0, -100], [0, 0, 0, 0, 0, 0, 0, 0, 0, 0, 0, 9, 0, 0, 0, -100], [9, 10, 0, 0, 0, 0, 0, 0, 0, 0, -100], [0, 0, 0, 0, 0, 0, 0, 0, 9, -100], [0, 0, 0, 0, 9, 10, 0, 0, 0, 0, 0, -100], [9, 10, 0, 0, 0, 0, 0, 0, 0, 0, -100], [0, 0, 0, 0, 9, 10, 0, 0, 0, 0, 0, 0, 0, 0, -100], [0, 9, 10, 0, 0, 0, 0, 0, 0, 0, 0, 9, 10, -100], [0, 0, 0, 0, 0, 0, 0, 0, 0, 0, 0, 0, 9, -100], [9, 10, 0, 0, 0, 0, 0, 0, 0, 0, 0, -100], [0, 0, 0, 0, 0, 0, 0, 0, 9, -100], [0, 0, 0, 0, 0, 0, 9, 10, 0, 0, 0, 0, -100], [0, 0, 0, 0, 0, 0, 9, 0, 0, -100], [0, 0, 0, 9, 10, 0, 0, 0, 0, 0, -100], [0, 0, 0, 0, 0, 0, 0, 9, -100], [0, 0, 0, 0, 0, 0, 0, 0, 9, 10, -100], [9, 10, 0, 0, 0, 0, 0, 0, 0, -100], [0, 0, 0, 0, 0, 0, 0, 0, 0, 0, 0, 0, 0, 9, 10, -100], [0, 0, 9, 10, 0, 0, 0, 0, 0, -100], [0, 0, 0, 0, 0, 0, 0, 9, -100], [9, 10, 0, 0, 0, 0, 0, 0, 0, 0, -100], [0, 0, 0, 9, 10, 0, 0, 0, 0, 0, 0, 0, 0, 0, -100], [0, 0, 9, 0, 0, 0, 0, 0, 0, 0, -100], [0, 0, 0, 0, 0, 9, 10, 0, 0, 0, 0, 0, -100], [0, 0, 0, 9, 10, 0, 0, 0, 0, 0, -100], [0, 0, 0, 0, 0, 0, 0, 0, 9, 10, 0, -100], [0, 0, 0, 9, 10, 0, 0, 0, 0, 0, 0, -100], [9, 10, 0, 0, 0, 0, 0, 0, -100], [0, 0, 0, 0, 0, 0, 0, 0, 0, 9, -100], [0, 9, 10, 0, 0, 0, 0, 0, 0, 0, 0, 9, 10, -100], [9, 10, 0, 0, 0, 0, 0, 0, 0, 0, 0, -100], [0, 0, 0, 9, 10, 0, 0, 0, -100], [0, 9, 10, 0, 0, 0, 0, 0, 0, 9, 10, -100], [9, 10, 0, 0, 0, 0, 0, 0, -100], [0, 0, 0, 9, 0, 0, 0, 0, 0, 0, 0, -100], [9, 10, 0, 0, 0, 0, 0, 0, 0, 0, -100], [0, 0, 0, 0, 9, 0, 0, 0, 0, -100], [0, 0, 0, 0, 9, 0, 0, 0, -100], [0, 0, 0, 0, 0, 0, 9, 0, 0, -100], [9, 10, 0, 0, 0, 0, 0, 0, -100], [9, 10, 0, 0, 0, 0, 0, 0, 0, 0, 0, -100], [0, 0, 0, 0, 9, 0, 0, 0, 0, 0, 0, 0, -100], [9, 0, 0, 0, 0, 0, 0, 0, 0, 0, 0, -100], [0, 9, 10, 0, 0, 0, 0, 0, 0, 0, -100], [0, 0, 0, 0, 9, 0, 0, 0, 0, 0, 0, 0, -100], [9, 10, 0, 0, 0, 0, 0, 0, 0, -100], [0, 0, 0, 0, 0, 0, 0, 0, 0, 0, 0, 0, 0, 0, 0, 0, 9, -100], [9, 10, 0, 0, 0, 0, 0, -100], [9, 10, 0, 0, 0, 0, 0, 0, -100], [0, 0, 0, 0, 0, 0, 9, 0, 0, 0, 0, 0, 0, -100], [0, 0, 0, 9, 0, 0, 0, 0, 0, -100], [0, 0, 0, 0, 0, 0, 0, 0, 0, 9, 10, -100], [0, 0, 0, 9, 0, 0, 0, 0, 0, -100], [0, 0, 9, 10, 0, 0, 0, 0, -100], [0, 0, 0, 0, 0, 0, 0, 0, 0, 9, 0, -100], [0, 0, 0, 0, 0, 0, 9, 10, -100], [0, 0, 0, 0, 0, 0, 0, 9, -100], [0, 0, 0, 0, 9, 10, 0, 0, 0, 0, 0, -100], [9, 0, 0, 0, 0, 0, 0, -100], [0, 9, 10, 0, 0, 0, 0, 0, 9, 10, -100], [0, 0, 0, 9, 0, 0, 0, 0, -100], [9, 10, 0, 0, 0, 0, 0, 0, 0, 0, 0, 0, 0, -100], [0, 0, 0, 0, 0, 0, 0, 9, 0, 0, 0, 0, -100], [0, 0, 0, 0, 9, 10, 0, 0, 0, 0, -100], [9, 0, 0, 0, 0, 0, 0, 0, 0, -100], [0, 0, 0, 0, 0, 0, 9, 10, 0, 0, 0, 0, 0, 0, 0, -100], [0, 0, 0, 0, 0, 9, 10, 0, 0, -100], [0, 0, 0, 0, 0, 0, 0, 0, 0, 0, 0, 9, 10, -100], [0, 0, 9, 10, 0, 0, 0, 0, 0, -100], [0, 9, 10, 0, 0, 0, 0, 0, 0, 0, 0, 0, -100], [9, 10, 0, 0, 0, 0, 0, 0, 0, -100], [0, 0, 0, 0, 0, 0, 0, 0, 0, 9, -100], [0, 0, 0, 9, 0, 0, 0, 0, 0, 0, 0, 0, -100], [0, 9, 10, 0, 0, 0, 0, 0, 0, 0, 0, 0, 9, -100], [0, 0, 0, 0, 0, 0, 9, 10, 0, -100], [9, 10, 0, 0, 0, 0, 0, 0, 0, 0, -100], [0, 0, 0, 0, 0, 0, 0, 0, 0, 0, -100], [0, 0, 0, 0, 0, 0, 0, 9, -100], [0, 0, 0, 9, 0, 0, 0, 0, 0, 0, -100], [0, 9, 10, 0, 0, 0, 0, 0, 0, -100], [9, 10, 0, 0, 0, 0, 0, 0, -100], [0, 0, 0, 9, 10, 0, 0, 0, -100], [9, 10, 0, 0, 0, 0, 0, 0, -100], [0, 9, 10, 0, 0, 0, 0, 0, -100], [9, 10, 0, 0, 0, 0, 0, 0, -100], [0, 9, 0, 0, 0, 0, 0, 0, 0, 0, -100], [9, 0, 0, 0, 0, 0, 0, 0, 0, -100], [9, 10, 0, 0, 0, 0, 0, 0, -100], [9, 0, 0, 0, 0, 0, 0, 0, -100], [0, 9, 10, 0, 0, 0, 0, 0, 0, 0, -100], [0, 9, 0, 0, 0, 0, 0, 0, 0, 0, 0, -100], [0, 9, 10, 0, 0, 0, 0, 0, 0, 0, -100], [9, 10, 0, 0, 0, 0, 0, 0, -100], [0, 9, 10, 0, 0, 0, 0, 0, 0, -100], [9, 10, 0, 0, 0, 0, 0, 0, 0, -100], [0, 9, 10, 0, 0, 0, 0, -100], [0, 9, 10, 0, 0, 0, 0, 0, 0, 0, -100], [0, 9, 10, 0, 0, 0, 0, -100], [9, 10, 0, 0, 0, 0, 0, 0, -100], [0, 9, 10, 0, 0, 0, 0, 0, 0, 0, 0, 0, -100], [9, 10, -100, 0, 0, 0, 9, -100, 0, 0, 0, -100], [0, 9, 10, 0, 0, 0, 0, 0, 0, 0, 0, 0, -100], [9, 10, 0, 0, 0, 0, 0, 0, 0, -100], [0, 9, 10, 0, 0, 0, 0, 0, 0, 0, 0, -100], [9, 10, 0, 0, 0, 0, 0, 0, 9, -100], [0, 9, 10, 0, 0, 0, 0, 0, 0, 0, 0, 0, 0, 0, -100], [9, 10, 0, 0, 0, 0, 0, 0, 0, 0, 0, -100], [0, 9, 10, 0, 0, 0, 0, 0, -100], [9, 10, 10, 0, 0, 0, 0, 0, 0, -100], [0, 9, 10, 0, 0, 0, 0, 0, 0, -100], [9, 10, 0, 0, 0, 0, 0, 0, 0, 0, 0, 0, 0, -100], [0, 9, 10, 0, 0, 0, 0, 0, 0, 0, 0, -100], [9, 10, 0, 0, 0, 0, 0, 5, -100], [0, 9, 10, 0, 0, 0, 5, 6, -100], [9, 10, 0, 5, 0, 0, 0, 0, -100], [0, 9, 0, 0, 0, 0, 0, 0, 0, 5, -100], [9, 0, 0, 0, 0, 0, 0, 0, 0, -100], [9, 10, 0, 0, 0, 0, 0, 5, -100], [9, 0, 0, 0, 0, 0, 5, 6, -100], [0, 9, 10, 0, 0, 0, 5, 6, 0, 5, -100], [0, 9, 0, 0, 0, 0, 0, 0, 0, 0, 0, -100], [0, 9, 10, 0, 0, 0, 0, 0, 5, 6, -100], [9, 10, 0, 0, 0, 0, 0, 5, -100], [0, 9, 10, 0, 0, 0, 0, 5, 6, -100], [9, 10, 0, 0, 0, 0, 0, 5, 6, -100], [0, 9, 10, 0, 5, 0, 5, -100], [0, 9, 10, 0, 0, 0, 0, 5, 0, 5, -100], [0, 9, 10, 0, 0, 5, 6, -100], [9, 10, 0, 0, 0, 0, 0, 5, -100], [0, 9, 10, 0, 0, 0, 0, 0, 0, 0, 0, 5, -100], [9, 10, -100, 0, 0, 0, 9, -100, 0, 0, 5, -100], [0, 9, 10, 0, 0, 0, 5, 6, 0, 0, 5, 6, -100]]\n"
     ]
    },
    {
     "name": "stderr",
     "output_type": "stream",
     "text": [
      "\n"
     ]
    }
   ],
   "source": [
    "label_list = {'(O)': 0, '(B-PER)': 1, '(I-PER)': 2, '(B-ORG)': 3, '(I-ORG)': 4, '(B-LOC)': 5, '(I-LOC)': 6, '(B-MISC)': 7, '(I-MISC)': 8,'(B-MOU)':9,'(I-MOU)':10}\n",
    "\n",
    "with open('BIO_dataset.txt', 'r', encoding='utf-8') as file:\n",
    "    lines = file.readlines()\n",
    "\n",
    "# \n",
    "id = [] # Line number\n",
    "tags = [] # Entitys\n",
    "tokens = [] # Words\n",
    "\n",
    "\n",
    "for idx,sentence in enumerate(lines): # fill lists with data\n",
    "\n",
    "    words = sentence.split()  # Split the sentence into words\n",
    "\n",
    "    token_list = [] \n",
    "    tag_list = []\n",
    "\n",
    "    for i in range(len(words)):\n",
    "        # checking the format, if some word dont have corresponded entity it take -100, this number will be ignored later\n",
    "        if '(' not in words[i] and ')' not in words[i]:\n",
    "            if i == len(words)-1 or'(' not in words[i+1] or ')' not in words[i+1]: \n",
    "                token_list.append(words[i])\n",
    "                tag_list.append(-100)\n",
    "            elif '(' in words[i+1] and ')' in words[i+1]:\n",
    "                token_list.append(words[i])\n",
    "                tag_list.append(label_list[words[i+1]])\n",
    "            \n",
    "    id.append(idx)\n",
    "    tags.append(tag_list)\n",
    "    tokens.append(token_list)\n",
    "\n",
    "# Create a dictionary\n",
    "dataset_dict = {\n",
    "    'id': id,\n",
    "    'tokens': tokens,\n",
    "    'ner_tags': tags\n",
    "}\n",
    "\n",
    "\n",
    "dataset = Dataset.from_dict(dataset_dict) # create dataset\n",
    "\n",
    "dataset.save_to_disk('./ner_dataset') #save it\n",
    "\n",
    "# Check the dataset format\n",
    "print(dataset['id'])\n",
    "print(dataset['tokens'])\n",
    "print(dataset['ner_tags'])\n"
   ]
  },
  {
   "cell_type": "markdown",
   "metadata": {},
   "source": [
    "Dont do this\n",
    "\n",
    "Next is unfinished idea to label data with exsistng model and manualy change B-LOC and I-LOC to B-MOU and I-MOU\n",
    "\n",
    "its too time consuming and abandoned by now"
   ]
  },
  {
   "cell_type": "code",
   "execution_count": 7,
   "metadata": {},
   "outputs": [],
   "source": [
    "# load distilbert-NER model\n",
    "with open('dataset.txt', 'r', encoding='utf-8') as file:\n",
    "    lines = file.readlines()\n",
    "Ner_local_path = \"distilbert-NER\"#global_path = \"dslim/distilbert-NER\"\n",
    "distilbert_tokenizer = AutoTokenizer.from_pretrained(Ner_local_path)\n",
    "distilbert_model = AutoModelForTokenClassification.from_pretrained(Ner_local_path)\n",
    "\n",
    "nlp = pipeline(\"ner\", model=distilbert_model, tokenizer=distilbert_tokenizer, device=device)"
   ]
  },
  {
   "cell_type": "code",
   "execution_count": 11,
   "metadata": {},
   "outputs": [],
   "source": [
    "# functions to merge tokens into words from distilbert-NER output\n",
    "def merge_entities(entities):\n",
    "    merged = []\n",
    "    i = 0\n",
    "\n",
    "    while i < len(entities):\n",
    "        current = entities[i]\n",
    "        \n",
    "        # Check for merging conditions\n",
    "        while (i + 1 < len(entities) and \n",
    "               current['end'] == entities[i + 1]['start']):\n",
    "            # Merge words\n",
    "            current['word'] += entities[i + 1]['word'].replace('##', '')\n",
    "            # Update the end index\n",
    "            current['end'] = entities[i + 1]['end']\n",
    "            # Move to the next entity\n",
    "            i += 1\n",
    "        \n",
    "        # Add merged entity to result\n",
    "        merged.append(current)\n",
    "        # Move to the next entity\n",
    "        i += 1\n",
    "\n",
    "    return merged"
   ]
  },
  {
   "cell_type": "code",
   "execution_count": null,
   "metadata": {},
   "outputs": [],
   "source": [
    "# put dataset from llm to NER model\n",
    "ner_results = nlp(lines)\n",
    "\n",
    "# Custom function to convert float32 to float\n",
    "def convert_floats(obj):\n",
    "    if isinstance(obj, np.float32):  # Convert float32 to float\n",
    "        return float(obj)\n",
    "    if isinstance(obj, np.ndarray):  # Handle NumPy arrays\n",
    "        return obj.tolist()\n",
    "    return obj\n",
    "\n",
    "filtered_results= []\n",
    "# filter  output from  NER model\n",
    "for n in range(len(lines)):\n",
    "    filtered_results.append([{key: value for key, value in result.items() if key != 'score' and key != 'index'} for result in ner_results[n]])\n",
    "# make words from output tokens\n",
    "for i in range(len(filtered_results)):\n",
    "    filtered_results[i] = merge_entities(filtered_results[i])\n",
    "# # Open the JSON file in append mode and write each result\n",
    "with open(\"data_lables.json\", 'a') as json_file:\n",
    "    json.dump(filtered_results, json_file, default=convert_floats, indent=4)  \n",
    "    json_file.write(\"\\n\")"
   ]
  }
 ],
 "metadata": {
  "kernelspec": {
   "display_name": ".venv",
   "language": "python",
   "name": "python3"
  },
  "language_info": {
   "codemirror_mode": {
    "name": "ipython",
    "version": 3
   },
   "file_extension": ".py",
   "mimetype": "text/x-python",
   "name": "python",
   "nbconvert_exporter": "python",
   "pygments_lexer": "ipython3",
   "version": "3.11.9"
  }
 },
 "nbformat": 4,
 "nbformat_minor": 2
}
